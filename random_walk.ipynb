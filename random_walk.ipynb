{
 "cells": [
  {
   "cell_type": "code",
   "execution_count": null,
   "metadata": {},
   "outputs": [],
   "source": [
    "import math\n",
    "import random\n",
    "import numpy as np\n",
    "import plotly.express as px\n",
    "import plotly.graph_objects as go\n",
    "from scipy.optimize import curve_fit"
   ]
  },
  {
   "cell_type": "code",
   "execution_count": null,
   "metadata": {},
   "outputs": [],
   "source": [
    "from pywalk import run_walk, get_arrival_list"
   ]
  },
  {
   "cell_type": "code",
   "execution_count": null,
   "metadata": {},
   "outputs": [],
   "source": [
    "walk = run_walk(n_steps = 10000, alpha=2.)"
   ]
  },
  {
   "cell_type": "code",
   "execution_count": null,
   "metadata": {},
   "outputs": [],
   "source": [
    "px.scatter(walk)"
   ]
  },
  {
   "cell_type": "code",
   "execution_count": null,
   "metadata": {},
   "outputs": [],
   "source": [
    "walk = list(filter(lambda x: x<1e15, walk))\n",
    "\n",
    "ranks = range(len(walk))\n",
    "\n",
    "fig = px.scatter(x=range(len(walk)), y=[f/sum(walk) for f in sorted(walk, reverse=True)])\n",
    "fig.add_scatter(x=list(range(1,1+len(walk))), y=[0.1/_x for _x in range(1,1+len(walk))])\n",
    "\n",
    "fig.update_layout({\"xaxis\":{\"type\":\"log\"},\n",
    "                   \"yaxis\":{\"type\":\"log\"}})"
   ]
  },
  {
   "cell_type": "code",
   "execution_count": null,
   "metadata": {},
   "outputs": [],
   "source": [
    "bin_counts, bin_edges = np.histogram(walk, bins=np.logspace(0,4,100))\n",
    "\n",
    "x = (bin_edges[1:]+bin_edges[:-1])/2.\n",
    "\n",
    "func = lambda x, C: C*np.power(x,-1)\n",
    "popt, pcov = curve_fit(func, x, bin_counts)\n",
    "\n",
    "fig = px.scatter(x=x, y=bin_counts)\n",
    "fig.add_scatter(x=x, y=func(x,*popt))\n",
    "\n",
    "fig.update_layout({\"xaxis\":{\"type\":\"log\"},\n",
    "                   \"yaxis\":{\"type\":\"log\"}})"
   ]
  },
  {
   "cell_type": "code",
   "execution_count": null,
   "metadata": {},
   "outputs": [],
   "source": [
    "arrivals = get_arrival_list(n_stats = 10000, n_steps = 500, alpha=2.)\n"
   ]
  },
  {
   "cell_type": "code",
   "execution_count": null,
   "metadata": {},
   "outputs": [],
   "source": [
    "from scipy.special import factorial\n",
    "\n",
    "def rho_n(n:int, x, alpha = 2.):\n",
    "    if n==0:\n",
    "        return 1/200.\n",
    "    else:\n",
    "        return 1. / alpha * math.log(x/alpha**n)\n",
    "    \n",
    "def rho(x, n_iter = 45, *args, **kwargs):\n",
    "    _rho = 1. - rho_n(n_iter,x)\n",
    "    for n in list(range(0, n_iter))[::-1]:\n",
    "        #print(\"1-rho_{}\".format(n))\n",
    "        _rho = 1.-rho_n(n, x, *args, **kwargs)*_rho\n",
    "    return 1. + _rho"
   ]
  },
  {
   "cell_type": "code",
   "execution_count": null,
   "metadata": {
    "tags": []
   },
   "outputs": [],
   "source": [
    "fig = go.Figure(layout={\"height\":400, \"width\":800})\n",
    "\n",
    "bin_counts, bin_edges = np.histogram(arrivals, bins=np.logspace(0,5, 100), density=True)\n",
    "\n",
    "x = (bin_edges[1:]+bin_edges[:-1])/2.\n",
    "fig.add_scatter(x=x, y=bin_counts, mode=\"markers\", name=\"simulations\")\n",
    "\n",
    "x = np.logspace(0, 5, 41)\n",
    "\n",
    "rhox = np.array([rho(_x, alpha=2.) for _x in x])\n",
    "rhox = 1e5*rhox/sum(rhox)\n",
    "mask = [rhox>0]\n",
    "fig.add_scatter(x=x[mask], y=rhox[mask], mode=\"lines\", name=\"conto numerico <br>ispirato a PRE Gherardi\")\n",
    "\n",
    "\n",
    "fig.update_layout({\"xaxis\":{\"type\":\"log\", \"title\":\"x\"},\n",
    "                   \"yaxis\":{\"type\":\"log\", \"title\":\"rho(x)\"}})\n",
    "\n",
    "fig.show()\n",
    "fig.write_image(\"rhox_sim_num.pdf\")"
   ]
  },
  {
   "cell_type": "code",
   "execution_count": null,
   "metadata": {},
   "outputs": [],
   "source": []
  }
 ],
 "metadata": {
  "kernelspec": {
   "display_name": "Python 3 (ipykernel)",
   "language": "python",
   "name": "python3"
  },
  "language_info": {
   "codemirror_mode": {
    "name": "ipython",
    "version": 3
   },
   "file_extension": ".py",
   "mimetype": "text/x-python",
   "name": "python",
   "nbconvert_exporter": "python",
   "pygments_lexer": "ipython3",
   "version": "3.8.5"
  }
 },
 "nbformat": 4,
 "nbformat_minor": 4
}
